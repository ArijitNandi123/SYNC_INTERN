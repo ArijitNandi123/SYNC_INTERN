{
 "cells": [
  {
   "cell_type": "markdown",
   "id": "a89d0977",
   "metadata": {},
   "source": [
    "**SYNC INTERN**\n",
    "\n",
    "**TASK 4 - Chatbot**\n",
    "\n",
    "**Arijit Nandi- Machine Learning Intern**"
   ]
  },
  {
   "cell_type": "code",
   "execution_count": 1,
   "id": "8d3d497d",
   "metadata": {},
   "outputs": [],
   "source": [
    "import random\n",
    "import time"
   ]
  },
  {
   "cell_type": "code",
   "execution_count": 2,
   "id": "7cf1ce00",
   "metadata": {},
   "outputs": [
    {
     "name": "stdout",
     "output_type": "stream",
     "text": [
      "\u001b[1;36mCalculatorBot: Hi! I'm your calculator assistant.\u001b[0m\n",
      "\u001b[1;31mCalculatorBot: What operation would you like to perform? (+, -, *, /)\u001b[0m\n",
      "User: +\n",
      "CalculatorBot: Enter the first number: 33\n",
      "CalculatorBot: Enter the second number: 23\n",
      "\u001b[1;36mCalculatorBot: The result of 33.0 + 23.0 is 56.0\u001b[0m\n",
      "\u001b[1;31mCalculatorBot: Would you like to perform another operation? (yes/no)\u001b[0m\n",
      "User: YES\n",
      "\u001b[1;31mCalculatorBot: What operation would you like to perform? (+, -, *, /)\u001b[0m\n",
      "User: *\n",
      "CalculatorBot: Enter the first number: 222\n",
      "CalculatorBot: Enter the second number: 12\n",
      "\u001b[1;36mCalculatorBot: The result of 222.0 * 12.0 is 2664.0\u001b[0m\n",
      "\u001b[1;31mCalculatorBot: Would you like to perform another operation? (yes/no)\u001b[0m\n",
      "User: NO\n",
      "\u001b[1;36mCalculatorBot: Goodbye! Have a great day!\u001b[0m\n"
     ]
    }
   ],
   "source": [
    "import time\n",
    "\n",
    "def greet():\n",
    "    greetings = [\"\\033[1;36mCalculatorBot: Hi! I'm your calculator assistant.\\033[0m\"]\n",
    "    greeting = random.choice(greetings)\n",
    "    print(greeting)\n",
    "    time.sleep(2)\n",
    "\n",
    "def perform_operation(operator, num1, num2):\n",
    "    if operator == \"+\":\n",
    "        result = num1 + num2\n",
    "    elif operator == \"-\":\n",
    "        result = num1 - num2\n",
    "    elif operator == \"*\":\n",
    "        result = num1 * num2\n",
    "    elif operator == \"/\":\n",
    "        result = num1 / num2\n",
    "    return result\n",
    "\n",
    "def main():\n",
    "    greet()\n",
    "    while True:\n",
    "        print(\"\\033[1;31mCalculatorBot: What operation would you like to perform? (+, -, *, /)\\033[0m\")\n",
    "        operator = input(\"User: \")\n",
    "        \n",
    "        if operator not in [\"+\", \"-\", \"*\", \"/\"]:\n",
    "            print(\"\\033[1;36mCalculatorBot: Invalid operator. Please choose +, -, *, or /.\\033[0m\")\n",
    "            continue\n",
    "        \n",
    "        num1 = float(input(\"\\033[1;31mCalculatorBot: Enter the first number:\\033[0m \"))\n",
    "        num2 = float(input(\"\\033[1;31mCalculatorBot: Enter the second number:\\033[0m \"))\n",
    "        \n",
    "        result = perform_operation(operator, num1, num2)\n",
    "        print(\"\\033[1;36mCalculatorBot: The result of {} {} {} is {}\\033[0m\".format(num1, operator, num2, result))\n",
    "        \n",
    "        print(\"\\033[1;31mCalculatorBot: Would you like to perform another operation? (yes/no)\\033[0m\")\n",
    "        another = input(\"User: \").lower()\n",
    "        if another != \"yes\":\n",
    "            break\n",
    "\n",
    "    print(\"\\033[1;36mCalculatorBot: Goodbye! Have a great day!\\033[0m\")\n",
    "\n",
    "if __name__ == \"__main__\":\n",
    "    main()\n"
   ]
  },
  {
   "cell_type": "code",
   "execution_count": null,
   "id": "7d5c45f0",
   "metadata": {},
   "outputs": [],
   "source": []
  },
  {
   "cell_type": "code",
   "execution_count": null,
   "id": "5999f47e",
   "metadata": {},
   "outputs": [],
   "source": [
    "\n",
    "\n",
    "\n",
    "\n"
   ]
  },
  {
   "cell_type": "code",
   "execution_count": null,
   "id": "e7f1d708",
   "metadata": {},
   "outputs": [],
   "source": []
  }
 ],
 "metadata": {
  "kernelspec": {
   "display_name": "Python 3 (ipykernel)",
   "language": "python",
   "name": "python3"
  },
  "language_info": {
   "codemirror_mode": {
    "name": "ipython",
    "version": 3
   },
   "file_extension": ".py",
   "mimetype": "text/x-python",
   "name": "python",
   "nbconvert_exporter": "python",
   "pygments_lexer": "ipython3",
   "version": "3.8.2"
  }
 },
 "nbformat": 4,
 "nbformat_minor": 5
}
